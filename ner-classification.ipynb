{
 "cells": [
  {
   "cell_type": "markdown",
   "metadata": {},
   "source": [
    "For each dataset (2 HR, 2 SR, 4 SLO):\n",
    "\n",
    "    - For each model (XLM-R-base, XLM-R-large, CSEBert, SloBERTa, BERTić, multiple versions of XLM-R-BERTić and XLM-R-SloBERTić):\n",
    "\n",
    "\n",
    "        - fine-tune the model and evaluate it - 5 times"
   ]
  },
  {
   "cell_type": "markdown",
   "metadata": {},
   "source": [
    "## Setup and Dataset Importing"
   ]
  },
  {
   "cell_type": "code",
   "execution_count": 1,
   "metadata": {},
   "outputs": [
    {
     "name": "stdout",
     "output_type": "stream",
     "text": [
      "env: CUDA_DEVICE_ORDER=PCI_BUS_ID\n",
      "env: CUDA_VISIBLE_DEVICES=1\n"
     ]
    }
   ],
   "source": [
    "# Define the gpu on the gpu machine\n",
    "%env CUDA_DEVICE_ORDER=PCI_BUS_ID\n",
    "%env CUDA_VISIBLE_DEVICES=1\n",
    "\n",
    "import evaluate\n",
    "from datetime import datetime\n",
    "import pandas as pd\n",
    "import numpy as np\n",
    "import json\n",
    "from simpletransformers.ner import NERModel, NERArgs\n",
    "from sklearn.metrics import classification_report, f1_score\n",
    "from tqdm.autonotebook import tqdm as notebook_tqdm\n",
    "import os\n",
    "os.environ[\"TOKENIZERS_PARALLELISM\"] = \"false\"\n",
    "import logging\n",
    "import sklearn\n",
    "from numba import cuda\n",
    "import argparse\n",
    "import gc\n",
    "import torch\n",
    "import time\n",
    "\n",
    "logging.basicConfig(level=logging.INFO)\n",
    "transformers_logger = logging.getLogger(\"transformers\")\n",
    "transformers_logger.setLevel(logging.WARNING)"
   ]
  },
  {
   "cell_type": "code",
   "execution_count": 2,
   "metadata": {},
   "outputs": [
    {
     "name": "stdout",
     "output_type": "stream",
     "text": [
      "['O', 'B-loc', 'B-org', 'B-per', 'I-per', 'B-deriv-per', 'I-org', 'I-loc', 'B-misc', 'I-misc', 'I-deriv-per']\n",
      "(398681, 3) (51190, 3) (49764, 3)\n",
      "    sentence_id      words labels\n",
      "717  set.hr-s36      Kazna      O\n",
      "718  set.hr-s36  medijskom      O\n",
      "719  set.hr-s36     mogulu      O\n",
      "720  set.hr-s36   obnovila      O\n",
      "721  set.hr-s36   raspravu      O\n"
     ]
    }
   ],
   "source": [
    "# Import the dataset\n",
    "\n",
    "# Code for python script\n",
    "\"\"\"\n",
    "if __name__ == '__main__':\n",
    "    parser = argparse.ArgumentParser()\n",
    "    parser.add_argument(\"dataset\", help=\"path to the dataset in JSON format\")\n",
    "    args = parser.parse_args()\n",
    "\n",
    "# Define the path to the dataset\n",
    "dataset_path = args.dataset\n",
    "\"\"\"\n",
    "# Define the path to the dataset\n",
    "dataset_path = \"datasets/hr500k.conllup_extracted.json\"\n",
    "\n",
    "# Load the json file\n",
    "with open(dataset_path, \"r\") as file:\n",
    "    json_dict = json.load(file)\n",
    "\n",
    "# Open the train, eval and test dictionaries as DataFrames\n",
    "train_df = pd.DataFrame(json_dict[\"train\"])\n",
    "test_df = pd.DataFrame(json_dict[\"test\"])\n",
    "dev_df = pd.DataFrame(json_dict[\"dev\"])\n",
    "\n",
    "# Define the labels\n",
    "LABELS = json_dict[\"labels\"]\n",
    "print(LABELS)\n",
    "\n",
    "print(train_df.shape, test_df.shape, dev_df.shape)\n",
    "print(train_df.head())\n"
   ]
  },
  {
   "cell_type": "markdown",
   "metadata": {},
   "source": [
    "## Training code"
   ]
  },
  {
   "cell_type": "code",
   "execution_count": 3,
   "metadata": {},
   "outputs": [],
   "source": [
    "def train_and_test(model, train_df, test_df, dataset_path):\n",
    "\n",
    "    # Set up the model's arguments\n",
    "    model_args = NERArgs()\n",
    "\n",
    "    # Define the model\n",
    "\n",
    "    # Define the model arguments - use the same one as for XLM-R-large if model is based on it,\n",
    "    # if the model is of same size as XLM-R-base, use its optimal hyperparameters (I searched for them before)\n",
    "    xlm_r_large_args = {\"overwrite_output_dir\": True,\n",
    "                \"num_train_epochs\": 7,\n",
    "                \"labels_list\": LABELS,\n",
    "                \"learning_rate\": 1e-5,\n",
    "                \"train_batch_size\": 32,\n",
    "                # Comment out no_cache and no_save if you want to save the model\n",
    "                \"no_cache\": True,\n",
    "                \"no_save\": True,\n",
    "                \"max_seq_length\": 256,\n",
    "                \"save_steps\": -1,\n",
    "                \"silent\": True,\n",
    "                }\n",
    "\n",
    "    xlm_r_base_args = {\"overwrite_output_dir\": True,\n",
    "             \"num_train_epochs\": 8,\n",
    "             \"labels_list\": LABELS,\n",
    "             \"learning_rate\": 1e-5,\n",
    "             \"train_batch_size\": 32,\n",
    "             # Comment out no_cache and no_save if you want to save the model\n",
    "             \"no_cache\": True,\n",
    "             \"no_save\": True,\n",
    "             \"max_seq_length\": 256,\n",
    "             \"save_steps\": -1,\n",
    "            \"silent\": True,\n",
    "             }\n",
    "\n",
    "\n",
    "    # Model type - a dictionary of type and model name.\n",
    "    # To refer to our own models, use the path to the model directory as the model name.\n",
    "    model_type_dict = {\n",
    "        \"sloberta\": [\"camembert\", \"EMBEDDIA/sloberta\", xlm_r_base_args],\n",
    "        \"csebert\": [\"bert\", \"EMBEDDIA/crosloengual-bert\", xlm_r_base_args],\n",
    "        \"xlm-r-base\": [\"xlmroberta\", \"xlm-roberta-base\", xlm_r_base_args],\n",
    "        \"xlm-r-large\": [\"xlmroberta\", \"xlm-roberta-large\", xlm_r_large_args],\n",
    "        \"bertic\": [\"electra\", \"classla/bcms-bertic\", xlm_r_base_args]\n",
    "    }\n",
    "\n",
    "    # Update the hyperparameters accordingly to the model\n",
    "    model_args = model_type_dict[model][2]\n",
    "\n",
    "    # Experiment with the args - to be deleted later\n",
    "    # Increase number of epochs - didn't change the scores at all\n",
    "    # model_args[\"num_train_epochs\"] = 30\n",
    "    # Decrease learning rate - does not help\n",
    "    # model_args[\"learning_rate\"] = 1e-6 \n",
    "    # Increase learning rate - does not help\n",
    "    #model_args[\"learning_rate\"] = 1e-4\n",
    "    # Use Nikola's deafault arguments\n",
    "    model_args[\"learning_rate\"] = 4e-5\n",
    "    model_args[\"num_train_epochs\"] = 10\n",
    "    model_args[\"train_batch_size\"] = 8\n",
    "    model_args[\"silent\"] = False\n",
    "\n",
    "    # Define the model\n",
    "    current_model = NERModel(\n",
    "    model_type_dict[model][0],\n",
    "    model_type_dict[model][1],\n",
    "    use_cuda=True,\n",
    "    args = model_args)\n",
    "\n",
    "    print(\"Training started. Current model: {}\".format(model))\n",
    "    print(\"Model arguments: epochs: {}, learning rate: {}, batch size: {}, max_seq_length: {}\".format(model_args[\"num_train_epochs\"], model_args[\"learning_rate\"], model_args[\"train_batch_size\"], model_args[\"max_seq_length\"]))\n",
    "\n",
    "    start_time = time.time()\n",
    "\n",
    "    # Fine-tune the model\n",
    "    current_model.train_model(train_df)\n",
    "\n",
    "    print(\"Training completed.\")\n",
    "\n",
    "    training_time = round((time.time() - start_time)/60,2)\n",
    "\n",
    "    print(\"It took {} minutes for {} instances.\".format(training_time, train_df.shape[0]))\n",
    "\n",
    "    # Clean cache\n",
    "    gc.collect()\n",
    "    torch.cuda.empty_cache()\n",
    "\n",
    "    start_evaluation_time = time.time()\n",
    "\n",
    "    # Evaluate the model\n",
    "    results = current_model.eval_model(test_df)\n",
    "\n",
    "    print(\"Evaluation completed.\")\n",
    "\n",
    "    evaluation_time = round((time.time() - start_evaluation_time)/60,2)\n",
    "\n",
    "    print(\"It took {} minutes for {} instances.\".format(evaluation_time, test_df.shape[0]))\n",
    "\n",
    "    # Get predictions\n",
    "    preds = results[1]\n",
    "\n",
    "    # Create a list with predictions - my method\n",
    "    preds_list = []\n",
    "\n",
    "    for sentence in preds:\n",
    "        for word in sentence:\n",
    "            current_word = []\n",
    "            for element in word:\n",
    "                # Find prediction with the highest value\n",
    "                highest_index = element.index(max(element))\n",
    "                # Transform the index to label\n",
    "                current_pred = current_model.config.id2label[highest_index]\n",
    "                # Append to the list\n",
    "                current_word.append(current_pred)\n",
    "            # Segmentation can result in multiple predictions for one word - use the first prediction only\n",
    "            preds_list.append(current_word[0])\n",
    "    \n",
    "    run_name = \"{}-{}\".format(dataset_path, model)\n",
    "\n",
    "    y_true = test_df.labels.tolist()\n",
    "\n",
    "    # Evaluate predictions\n",
    "    metrics = evaluate.testing(y_true, preds_list, list(test_df.labels.unique()), run_name, show_matrix=True)\n",
    "\n",
    "    # Add y_pred and y_true to the metrics dict\n",
    "    metrics[\"y_true_T\"] = y_true\n",
    "    metrics[\"y_pred_T\"] = preds_list\n",
    "\n",
    "   # Calculate macro F1 with Nikola's/Rik's method as well\n",
    "    preds_list_N = []\n",
    "\n",
    "    # Use factorize to convert sentence_id to integer labels\n",
    "    test_df['sentence_id_f'] = pd.factorize(test_df['sentence_id'])[0]\n",
    "\n",
    "    preds_N = results[2]\n",
    "    kept_sentences = 0\n",
    "    discarded_sentences = 0\n",
    "\n",
    "    test_df[\"y_pred_N\"] = \"\"\n",
    "\n",
    "    # We unfold this list of lists, add it to original test data, and discard \n",
    "    # all of the sentences where there is a mismatch.\n",
    "    for i in test_df.sentence_id_f.unique():\n",
    "        subset = test_df[test_df.sentence_id_f == i]\n",
    "        if subset.shape[0] == len(preds_N[i]):\n",
    "            test_df.loc[test_df.sentence_id_f == i, \"y_pred_N\"] = preds_N[i]\n",
    "            kept_sentences += 1\n",
    "        else:\n",
    "            discarded_sentences += 1\n",
    "            continue\n",
    "\n",
    "    test_df_N = test_df[test_df.y_pred_N != \"\"]\n",
    "    y_true_N = test_df_N.labels.tolist()\n",
    "    y_pred_N = test_df_N.y_pred_N.tolist()\n",
    "\n",
    "    labels_N = list(test_df_N.labels.unique())\n",
    "\n",
    "    print(\"Number of kept and discarded sentences; percentage of discarded sentences:\")\n",
    "    print(kept_sentences)\n",
    "    print(discarded_sentences)\n",
    "    print(discarded_sentences/(kept_sentences+discarded_sentences)*100)\n",
    "\n",
    "    macrof1_N = f1_score(y_true_N, y_pred_N, labels=labels_N, average='macro')\n",
    "    microf1_N = f1_score(y_true_N, y_pred_N, labels=labels_N, average='micro')\n",
    "    clfreport = classification_report(y_true_N, y_pred_N, labels=labels_N)\n",
    "\n",
    "    # Let's also add entire results\n",
    "    metrics[\"results_output\"] = results\n",
    "\n",
    "    # Let's add Nikola's results\n",
    "    metrics[\"Micro F1 Nikola\"] = microf1_N\n",
    "    metrics[\"Macro F1 Nikola\"] = macrof1_N\n",
    "\n",
    "    print(\"Nikola's Macro F1: {} and Micro F1: {}\".format(macrof1_N, microf1_N))\n",
    "    \n",
    "    # The function returns a dict with accuracy, micro f1, macro f1, y_true and y_pred\n",
    "    return metrics"
   ]
  },
  {
   "cell_type": "code",
   "execution_count": null,
   "metadata": {},
   "outputs": [],
   "source": [
    "# Create a new file for results\n",
    "#with open(\"ner-results-testing.txt\", \"w\") as file:\n",
    "#    file.write(\"Date\\tModel\\tRun\\tDataset\\tMicro F1\\tMacro F1\\tMicro F1 Nikola\\t Macro F1 Nikola\\tLabel Report\\n\")"
   ]
  },
  {
   "cell_type": "code",
   "execution_count": 4,
   "metadata": {},
   "outputs": [
    {
     "name": "stderr",
     "output_type": "stream",
     "text": [
      "Some weights of XLMRobertaForTokenClassification were not initialized from the model checkpoint at xlm-roberta-base and are newly initialized: ['classifier.bias', 'classifier.weight']\n",
      "You should probably TRAIN this model on a down-stream task to be able to use it for predictions and inference.\n"
     ]
    },
    {
     "name": "stdout",
     "output_type": "stream",
     "text": [
      "Training started. Current model: xlm-r-base\n",
      "Model arguments: epochs: 10, learning rate: 4e-05, batch size: 8, max_seq_length: 256\n"
     ]
    },
    {
     "name": "stderr",
     "output_type": "stream",
     "text": [
      "INFO:simpletransformers.ner.ner_model: Converting to features started.\n"
     ]
    },
    {
     "data": {
      "application/vnd.jupyter.widget-view+json": {
       "model_id": "29ba4ed457e7428ab1de2c8ee9f3a887",
       "version_major": 2,
       "version_minor": 0
      },
      "text/plain": [
       "  0%|          | 0/40 [00:00<?, ?it/s]"
      ]
     },
     "metadata": {},
     "output_type": "display_data"
    },
    {
     "data": {
      "application/vnd.jupyter.widget-view+json": {
       "model_id": "d489547afb1c4e1d89b4b5b0cbbb4200",
       "version_major": 2,
       "version_minor": 0
      },
      "text/plain": [
       "Epoch:   0%|          | 0/10 [00:00<?, ?it/s]"
      ]
     },
     "metadata": {},
     "output_type": "display_data"
    },
    {
     "data": {
      "application/vnd.jupyter.widget-view+json": {
       "model_id": "a31c4cd303e249e09b0b8befb5e9c304",
       "version_major": 2,
       "version_minor": 0
      },
      "text/plain": [
       "Running Epoch 0 of 10:   0%|          | 0/2474 [00:00<?, ?it/s]"
      ]
     },
     "metadata": {},
     "output_type": "display_data"
    },
    {
     "name": "stderr",
     "output_type": "stream",
     "text": [
      "/home/tajak/NER-recognition/ner/lib/python3.8/site-packages/torch/optim/lr_scheduler.py:139: UserWarning: Detected call of `lr_scheduler.step()` before `optimizer.step()`. In PyTorch 1.1.0 and later, you should call them in the opposite order: `optimizer.step()` before `lr_scheduler.step()`.  Failure to do this will result in PyTorch skipping the first value of the learning rate schedule. See more details at https://pytorch.org/docs/stable/optim.html#how-to-adjust-learning-rate\n",
      "  warnings.warn(\"Detected call of `lr_scheduler.step()` before `optimizer.step()`. \"\n"
     ]
    },
    {
     "data": {
      "application/vnd.jupyter.widget-view+json": {
       "model_id": "7a914d06b3484bf5b7223b8abcd0a936",
       "version_major": 2,
       "version_minor": 0
      },
      "text/plain": [
       "Running Epoch 1 of 10:   0%|          | 0/2474 [00:00<?, ?it/s]"
      ]
     },
     "metadata": {},
     "output_type": "display_data"
    },
    {
     "data": {
      "application/vnd.jupyter.widget-view+json": {
       "model_id": "c3e788522d2e47e2b37435b048784fae",
       "version_major": 2,
       "version_minor": 0
      },
      "text/plain": [
       "Running Epoch 2 of 10:   0%|          | 0/2474 [00:00<?, ?it/s]"
      ]
     },
     "metadata": {},
     "output_type": "display_data"
    },
    {
     "data": {
      "application/vnd.jupyter.widget-view+json": {
       "model_id": "d35009873b7b41268c4342dafd38b926",
       "version_major": 2,
       "version_minor": 0
      },
      "text/plain": [
       "Running Epoch 3 of 10:   0%|          | 0/2474 [00:00<?, ?it/s]"
      ]
     },
     "metadata": {},
     "output_type": "display_data"
    },
    {
     "data": {
      "application/vnd.jupyter.widget-view+json": {
       "model_id": "67ae05e5aa204f54b2aef6f8bb11d915",
       "version_major": 2,
       "version_minor": 0
      },
      "text/plain": [
       "Running Epoch 4 of 10:   0%|          | 0/2474 [00:00<?, ?it/s]"
      ]
     },
     "metadata": {},
     "output_type": "display_data"
    },
    {
     "data": {
      "application/vnd.jupyter.widget-view+json": {
       "model_id": "c0be17addc8e4ec893b1d16312bb0f1b",
       "version_major": 2,
       "version_minor": 0
      },
      "text/plain": [
       "Running Epoch 5 of 10:   0%|          | 0/2474 [00:00<?, ?it/s]"
      ]
     },
     "metadata": {},
     "output_type": "display_data"
    },
    {
     "data": {
      "application/vnd.jupyter.widget-view+json": {
       "model_id": "7c98dd7d2f81490c80d82e25e978b1a4",
       "version_major": 2,
       "version_minor": 0
      },
      "text/plain": [
       "Running Epoch 6 of 10:   0%|          | 0/2474 [00:00<?, ?it/s]"
      ]
     },
     "metadata": {},
     "output_type": "display_data"
    },
    {
     "data": {
      "application/vnd.jupyter.widget-view+json": {
       "model_id": "31901a2be3124395a9b688e1449ea5a1",
       "version_major": 2,
       "version_minor": 0
      },
      "text/plain": [
       "Running Epoch 7 of 10:   0%|          | 0/2474 [00:00<?, ?it/s]"
      ]
     },
     "metadata": {},
     "output_type": "display_data"
    },
    {
     "data": {
      "application/vnd.jupyter.widget-view+json": {
       "model_id": "b298454da36143c18f3166184ed62210",
       "version_major": 2,
       "version_minor": 0
      },
      "text/plain": [
       "Running Epoch 8 of 10:   0%|          | 0/2474 [00:00<?, ?it/s]"
      ]
     },
     "metadata": {},
     "output_type": "display_data"
    },
    {
     "data": {
      "application/vnd.jupyter.widget-view+json": {
       "model_id": "33ca56ea09bf47d0a584aec8ac44debe",
       "version_major": 2,
       "version_minor": 0
      },
      "text/plain": [
       "Running Epoch 9 of 10:   0%|          | 0/2474 [00:00<?, ?it/s]"
      ]
     },
     "metadata": {},
     "output_type": "display_data"
    },
    {
     "name": "stderr",
     "output_type": "stream",
     "text": [
      "INFO:simpletransformers.ner.ner_model: Training of xlmroberta model complete. Saved to outputs/.\n",
      "INFO:simpletransformers.ner.ner_model: Converting to features started.\n"
     ]
    },
    {
     "name": "stdout",
     "output_type": "stream",
     "text": [
      "Training completed.\n",
      "It took 23.6 minutes for 398681 instances.\n"
     ]
    },
    {
     "data": {
      "application/vnd.jupyter.widget-view+json": {
       "model_id": "392bb60074644de4b13100b62fe61890",
       "version_major": 2,
       "version_minor": 0
      },
      "text/plain": [
       "  0%|          | 0/5 [00:00<?, ?it/s]"
      ]
     },
     "metadata": {},
     "output_type": "display_data"
    },
    {
     "data": {
      "application/vnd.jupyter.widget-view+json": {
       "model_id": "cd31170b6a094daf8b63d77114faf083",
       "version_major": 2,
       "version_minor": 0
      },
      "text/plain": [
       "Running Evaluation:   0%|          | 0/311 [00:00<?, ?it/s]"
      ]
     },
     "metadata": {},
     "output_type": "display_data"
    },
    {
     "name": "stderr",
     "output_type": "stream",
     "text": [
      "INFO:simpletransformers.ner.ner_model:{'eval_loss': 0.10031254514321526, 'precision': 0.8746189024390244, 'recall': 0.8857583944423003, 'f1_score': 0.8801534036433365}\n"
     ]
    },
    {
     "name": "stdout",
     "output_type": "stream",
     "text": [
      "Evaluation completed.\n",
      "It took 0.26 minutes for 51190 instances.\n",
      "Macro f1: 0.0982, Micro f1: 0.84\n",
      "Accuracy: 0.84\n"
     ]
    },
    {
     "data": {
      "image/png": "[encoded data removed]",
      "text/plain": [
       "<Figure size 600x600 with 1 Axes>"
      ]
     },
     "metadata": {},
     "output_type": "display_data"
    },
    {
     "name": "stdout",
     "output_type": "stream",
     "text": [
      "Number of kept and discarded sentences; percentage of discarded sentences:\n",
      "60\n",
      "2426\n",
      "97.58648431214803\n",
      "Nikola's Macro F1: 0.10343270099367659 and Micro F1: 0.8703087885985749\n",
      "Run Nikola-default-args finished.\n"
     ]
    },
    {
     "name": "stderr",
     "output_type": "stream",
     "text": [
      "/home/tajak/NER-recognition/ner/lib/python3.8/site-packages/sklearn/metrics/_classification.py:1469: UndefinedMetricWarning: Precision and F-score are ill-defined and being set to 0.0 in labels with no predicted samples. Use `zero_division` parameter to control this behavior.\n",
      "  _warn_prf(average, modifier, msg_start, len(result))\n",
      "/home/tajak/NER-recognition/ner/lib/python3.8/site-packages/sklearn/metrics/_classification.py:1469: UndefinedMetricWarning: Precision and F-score are ill-defined and being set to 0.0 in labels with no predicted samples. Use `zero_division` parameter to control this behavior.\n",
      "  _warn_prf(average, modifier, msg_start, len(result))\n",
      "/home/tajak/NER-recognition/ner/lib/python3.8/site-packages/sklearn/metrics/_classification.py:1469: UndefinedMetricWarning: Precision and F-score are ill-defined and being set to 0.0 in labels with no predicted samples. Use `zero_division` parameter to control this behavior.\n",
      "  _warn_prf(average, modifier, msg_start, len(result))\n"
     ]
    },
    {
     "data": {
      "text/plain": [
       "<Figure size 640x480 with 0 Axes>"
      ]
     },
     "metadata": {},
     "output_type": "display_data"
    }
   ],
   "source": [
    "# Testing the models if they work as expected\n",
    "# models: [\"xlm-r-large\", \"sloberta\", \"csebert\", \"xlm-r-base\", \"bertic\"]\n",
    "model = \"xlm-r-base\"\n",
    "run = \"Nikola-default-args\"\n",
    "\n",
    "current_results_dict = train_and_test(model, train_df, test_df, dataset_path)\n",
    "\n",
    "# Add to the dict model name, dataset name and run\n",
    "current_results_dict[\"model\"] = model\n",
    "current_results_dict[\"run\"] = \"{}-{}\".format(model, run)\n",
    "current_results_dict[\"dataset\"] = dataset_path\n",
    "\n",
    "# Add to the file with results all important information\n",
    "with open(\"ner-results-testing.txt\", \"a\") as file:\n",
    "    file.write(\"{}\\t{}\\t{}\\t{}\\t{}\\t{}\\t{}\\t{}\\t{}\\n\".format(datetime.now().strftime(\"%d/%m/%Y %H:%M:%S\"), current_results_dict[\"model\"], current_results_dict[\"run\"], current_results_dict[\"dataset\"], current_results_dict[\"micro F1\"], current_results_dict[\"macro F1\"], current_results_dict[\"Micro F1 Nikola\"], current_results_dict[\"Macro F1 Nikola\"], current_results_dict[\"label-report\"]))\n",
    "\n",
    "# Add to the original test_df y_preds\n",
    "#test_df[\"y_pred_{}_{}\".format(model, run)] = current_results_dict[\"y_pred\"]\n",
    "\n",
    "# Save entire dict just in case\n",
    "#with open(\"{}-{}-{}-backlog.json\".format(dataset_path,model,run), \"w\") as backlog:\n",
    "#    json.dump(current_results_dict, backlog, indent=2)\n",
    "\n",
    "print(\"Run {} finished.\".format(run))\n",
    "\n",
    "# At the end, save the test_df with all predictions\n",
    "#test_df.to_csv(\"{}-test_df-with-predictions.csv\".format(dataset_path))"
   ]
  },
  {
   "cell_type": "code",
   "execution_count": 5,
   "metadata": {},
   "outputs": [
    {
     "data": {
      "text/html": [
       "<div>\n",
       "<style scoped>\n",
       "    .dataframe tbody tr th:only-of-type {\n",
       "        vertical-align: middle;\n",
       "    }\n",
       "\n",
       "    .dataframe tbody tr th {\n",
       "        vertical-align: top;\n",
       "    }\n",
       "\n",
       "    .dataframe thead th {\n",
       "        text-align: right;\n",
       "    }\n",
       "</style>\n",
       "<table border=\"1\" class=\"dataframe\">\n",
       "  <thead>\n",
       "    <tr style=\"text-align: right;\">\n",
       "      <th></th>\n",
       "      <th>Date</th>\n",
       "      <th>Model</th>\n",
       "      <th>Run</th>\n",
       "      <th>Dataset</th>\n",
       "      <th>Micro F1</th>\n",
       "      <th>Macro F1</th>\n",
       "      <th>Micro F1 Nikola</th>\n",
       "      <th>Macro F1 Nikola</th>\n",
       "      <th>Label Report</th>\n",
       "    </tr>\n",
       "  </thead>\n",
       "  <tbody>\n",
       "    <tr>\n",
       "      <th>0</th>\n",
       "      <td>17/08/2023 08:51:20</td>\n",
       "      <td>xlm-r-base</td>\n",
       "      <td>xlm-r-base-testing xlm-r-base</td>\n",
       "      <td>datasets/hr500k.conllup_extracted.json</td>\n",
       "      <td>0.839422</td>\n",
       "      <td>0.096976</td>\n",
       "      <td>0.864198</td>\n",
       "      <td>0.103069</td>\n",
       "      <td>{'B-deriv-per': {'precision': 0.0, 'recall': 0...</td>\n",
       "    </tr>\n",
       "    <tr>\n",
       "      <th>1</th>\n",
       "      <td>17/08/2023 09:15:52</td>\n",
       "      <td>xlm-r-base</td>\n",
       "      <td>xlm-r-base-testing xlm-r-base</td>\n",
       "      <td>datasets/hr500k.conllup_extracted.json</td>\n",
       "      <td>0.839344</td>\n",
       "      <td>0.097316</td>\n",
       "      <td>0.863248</td>\n",
       "      <td>0.103009</td>\n",
       "      <td>{'B-deriv-per': {'precision': 0.0, 'recall': 0...</td>\n",
       "    </tr>\n",
       "    <tr>\n",
       "      <th>2</th>\n",
       "      <td>17/08/2023 10:03:24</td>\n",
       "      <td>xlm-r-base</td>\n",
       "      <td>xlm-r-base-epochs-to-30</td>\n",
       "      <td>datasets/hr500k.conllup_extracted.json</td>\n",
       "      <td>0.839070</td>\n",
       "      <td>0.097772</td>\n",
       "      <td>0.867047</td>\n",
       "      <td>0.103251</td>\n",
       "      <td>{'B-deriv-per': {'precision': 0.0, 'recall': 0...</td>\n",
       "    </tr>\n",
       "    <tr>\n",
       "      <th>3</th>\n",
       "      <td>17/08/2023 10:17:52</td>\n",
       "      <td>xlm-r-base</td>\n",
       "      <td>xlm-r-base-lr-to-1e-6</td>\n",
       "      <td>datasets/hr500k.conllup_extracted.json</td>\n",
       "      <td>0.839383</td>\n",
       "      <td>0.096620</td>\n",
       "      <td>0.861349</td>\n",
       "      <td>0.102992</td>\n",
       "      <td>{'B-deriv-per': {'precision': 0.0, 'recall': 0...</td>\n",
       "    </tr>\n",
       "    <tr>\n",
       "      <th>4</th>\n",
       "      <td>17/08/2023 10:28:55</td>\n",
       "      <td>xlm-r-base</td>\n",
       "      <td>xlm-r-base-lr-to-1e-4</td>\n",
       "      <td>datasets/hr500k.conllup_extracted.json</td>\n",
       "      <td>0.839910</td>\n",
       "      <td>0.097347</td>\n",
       "      <td>0.870845</td>\n",
       "      <td>0.128229</td>\n",
       "      <td>{'B-deriv-per': {'precision': 0.0, 'recall': 0...</td>\n",
       "    </tr>\n",
       "    <tr>\n",
       "      <th>5</th>\n",
       "      <td>17/08/2023 11:07:01</td>\n",
       "      <td>xlm-r-base</td>\n",
       "      <td>xlm-r-base-Nikola-default-args</td>\n",
       "      <td>datasets/hr500k.conllup_extracted.json</td>\n",
       "      <td>0.840496</td>\n",
       "      <td>0.098157</td>\n",
       "      <td>0.870309</td>\n",
       "      <td>0.103433</td>\n",
       "      <td>{'B-deriv-per': {'precision': 0.0, 'recall': 0...</td>\n",
       "    </tr>\n",
       "  </tbody>\n",
       "</table>\n",
       "</div>"
      ],
      "text/plain": [
       "                  Date       Model                             Run  \\\n",
       "0  17/08/2023 08:51:20  xlm-r-base   xlm-r-base-testing xlm-r-base   \n",
       "1  17/08/2023 09:15:52  xlm-r-base   xlm-r-base-testing xlm-r-base   \n",
       "2  17/08/2023 10:03:24  xlm-r-base         xlm-r-base-epochs-to-30   \n",
       "3  17/08/2023 10:17:52  xlm-r-base           xlm-r-base-lr-to-1e-6   \n",
       "4  17/08/2023 10:28:55  xlm-r-base           xlm-r-base-lr-to-1e-4   \n",
       "5  17/08/2023 11:07:01  xlm-r-base  xlm-r-base-Nikola-default-args   \n",
       "\n",
       "                                  Dataset  Micro F1  Macro F1  \\\n",
       "0  datasets/hr500k.conllup_extracted.json  0.839422  0.096976   \n",
       "1  datasets/hr500k.conllup_extracted.json  0.839344  0.097316   \n",
       "2  datasets/hr500k.conllup_extracted.json  0.839070  0.097772   \n",
       "3  datasets/hr500k.conllup_extracted.json  0.839383  0.096620   \n",
       "4  datasets/hr500k.conllup_extracted.json  0.839910  0.097347   \n",
       "5  datasets/hr500k.conllup_extracted.json  0.840496  0.098157   \n",
       "\n",
       "   Micro F1 Nikola   Macro F1 Nikola  \\\n",
       "0         0.864198          0.103069   \n",
       "1         0.863248          0.103009   \n",
       "2         0.867047          0.103251   \n",
       "3         0.861349          0.102992   \n",
       "4         0.870845          0.128229   \n",
       "5         0.870309          0.103433   \n",
       "\n",
       "                                        Label Report  \n",
       "0  {'B-deriv-per': {'precision': 0.0, 'recall': 0...  \n",
       "1  {'B-deriv-per': {'precision': 0.0, 'recall': 0...  \n",
       "2  {'B-deriv-per': {'precision': 0.0, 'recall': 0...  \n",
       "3  {'B-deriv-per': {'precision': 0.0, 'recall': 0...  \n",
       "4  {'B-deriv-per': {'precision': 0.0, 'recall': 0...  \n",
       "5  {'B-deriv-per': {'precision': 0.0, 'recall': 0...  "
      ]
     },
     "execution_count": 5,
     "metadata": {},
     "output_type": "execute_result"
    }
   ],
   "source": [
    "# Inspect results\n",
    "results_df = pd.read_csv(\"ner-results-testing.txt\", sep=\"\\t\")\n",
    "\n",
    "results_df"
   ]
  },
  {
   "cell_type": "markdown",
   "metadata": {},
   "source": [
    "## Run models"
   ]
  },
  {
   "cell_type": "code",
   "execution_count": null,
   "metadata": {},
   "outputs": [],
   "source": [
    "#For each model, repeat training and testing 5 times - let's do 2 times for starters\n",
    "model_list = [\"xlm-r-large\", \"sloberta\", \"csebert\", \"xlm-r-base\", \"bertic\"]\n",
    "\n",
    "for model in model_list:\n",
    "    for run in list(range(2)):\n",
    "        current_results_dict = train_and_test(model, train_df, test_df, dataset_path)\n",
    "\n",
    "        # Add to the dict model name, dataset name and run\n",
    "        current_results_dict[\"model\"] = model\n",
    "        current_results_dict[\"run\"] = \"{}-{}\".format(model, run)\n",
    "        current_results_dict[\"dataset\"] = dataset_path\n",
    "\n",
    "        # Add to the file with results all important information\n",
    "        with open(\"ner-results.txt\", \"a\") as file:\n",
    "            file.write(\"{}\\t{}\\t{}\\t{}\\t{}\\t{}\\t{}\\n\".format(datetime.now().strftime(\"%d/%m/%Y %H:%M:%S\"), current_results_dict[\"model\"], current_results_dict[\"run\"], current_results_dict[\"dataset\"], current_results_dict[\"micro F1\"], current_results_dict[\"macro F1\"], current_results_dict[\"label-report\"]))\n",
    "\n",
    "        # Add to the original test_df y_preds\n",
    "        test_df[\"y_pred_{}_{}\".format(model, run)] = current_results_dict[\"y_pred\"]\n",
    "\n",
    "        # Save entire dict just in case\n",
    "        with open(\"{}-{}-{}-backlog.json\".format(dataset_path,model,run), \"w\") as backlog:\n",
    "            json.dump(current_results_dict, backlog, indent=2)\n",
    "    \n",
    "        print(\"Run {} finished.\".format(run))\n",
    "\n",
    "# At the end, save the test_df with all predictions\n",
    "test_df.to_csv(\"{}-test_df-with-predictions.csv\".format(dataset_path))"
   ]
  },
  {
   "cell_type": "code",
   "execution_count": null,
   "metadata": {},
   "outputs": [],
   "source": [
    "# Use factorize to convert sentence_id to integer labels\n",
    "test_df['sentence_id'] = pd.factorize(test_df['sentence_id'])[0]\n",
    "\n",
    "test_df.head(20)\n"
   ]
  },
  {
   "cell_type": "code",
   "execution_count": null,
   "metadata": {},
   "outputs": [],
   "source": [
    "from sklearn.metrics import classification_report, f1_score\n",
    "\n",
    "predictions = results[2]\n",
    "kept_sentences = 0\n",
    "discarded_sentences = 0\n",
    "\n",
    "test_df[\"y_pred\"] = \"\"\n",
    "\n",
    " # We unfold this list of lists, add it to original test data, and discard \n",
    "# all of the sentences where  there is a mismatch.\n",
    "for i in test_df.sentence_id.unique():\n",
    "    subset = test_df[test_df.sentence_id == i]\n",
    "    if subset.shape[0] == len(predictions[i]):\n",
    "        test_df.loc[test_df.sentence_id == i, \"y_pred\"] = predictions[i]\n",
    "        kept_sentences += 1\n",
    "    else:\n",
    "        discarded_sentences += 1\n",
    "        continue\n",
    "\n",
    "test_df = test_df[test_df.y_pred != \"\"]\n",
    "y_true = test_df.labels.tolist()\n",
    "y_pred = test_df.y_pred.tolist()\n",
    "\n",
    "labels = list(test_df.labels.unique())\n",
    "\n",
    "print(len(y_true))\n",
    "print(kept_sentences)\n",
    "print(discarded_sentences)\n",
    "\n",
    "#print(y_true,y_pred)\n",
    "macrof1 = f1_score(y_true, y_pred, labels=labels, average='macro')\n",
    "microf1 = f1_score(y_true, y_pred, labels=labels, average='micro')\n",
    "clfreport = classification_report(y_true, y_pred, labels=labels)\n",
    "print(str(microf1)+'\\t'+str(macrof1))"
   ]
  },
  {
   "cell_type": "code",
   "execution_count": null,
   "metadata": {},
   "outputs": [],
   "source": [
    "def train_and_test(model, train_df, test_df):\n",
    "\n",
    "    # Set up the model's arguments\n",
    "    model_args = NERArgs()\n",
    "\n",
    "    # Define the model\n",
    "\n",
    "    # Define the model arguments - use the same one as for XLM-R-large if model is based on it,\n",
    "    # if the model is of same size as XLM-R-base, use its optimal hyperparameters (I searched for them before)\n",
    "    xlm_r_large_args = {\"overwrite_output_dir\": True,\n",
    "                \"num_train_epochs\": 7,\n",
    "                \"labels_list\": LABELS,\n",
    "                \"learning_rate\": 1e-5,\n",
    "                \"train_batch_size\": 32,\n",
    "                # Comment out no_cache and no_save if you want to save the model\n",
    "                \"no_cache\": True,\n",
    "                \"no_save\": True,\n",
    "                \"max_seq_length\": 256,\n",
    "                \"save_steps\": -1,\n",
    "                \"wandb_project\": \"NER\",\n",
    "                \"silent\": True,\n",
    "                }\n",
    "\n",
    "    xlm_r_base_args = {\"overwrite_output_dir\": True,\n",
    "             \"num_train_epochs\": 8,\n",
    "             \"labels_list\": LABELS,\n",
    "             \"learning_rate\": 1e-5,\n",
    "             \"train_batch_size\": 32,\n",
    "             # Comment out no_cache and no_save if you want to save the model\n",
    "             \"no_cache\": True,\n",
    "             \"no_save\": True,\n",
    "             \"max_seq_length\": 256,\n",
    "             \"save_steps\": -1,\n",
    "            \"wandb_project\": \"NER\",\n",
    "            \"silent\": True,\n",
    "             }\n",
    "\n",
    "\n",
    "    # Model type - a dictionary of type and model name.\n",
    "    # To refer to our own models, use the path to the model directory as the model name.\n",
    "    model_type_dict = {\n",
    "        \"sloberta\": [\"camembert\", \"EMBEDDIA/sloberta\", xlm_r_base_args],\n",
    "        \"csebert\": [\"bert\", \"EMBEDDIA/crosloengual-bert\", xlm_r_base_args],\n",
    "        \"xlm-r-base\": [\"xlmroberta\", \"xlm-roberta-base\", xlm_r_base_args],\n",
    "        \"xlm-r-large\": [\"xlmroberta\", \"xlm-roberta-large\", xlm_r_large_args],\n",
    "        \"bertic\": [\"electra\", \"classla/bcms-bertic\", xlm_r_base_args]\n",
    "    }\n",
    "\n",
    "    # Update the hyperparameters accordingly to the model\n",
    "    model_args = model_type_dict[model][2]\n",
    "\n",
    "    # Define the model\n",
    "    current_model = NERModel(\n",
    "    model_type_dict[model][0],\n",
    "    model_type_dict[model][1],\n",
    "    use_cuda=True,\n",
    "    args = model_args)\n",
    "\n",
    "    print(\"Training started. Current model: {}\".format(model))\n",
    "    start_time = time.time()\n",
    "\n",
    "    # Fine-tune the model\n",
    "    current_model.train_model(train_df)\n",
    "\n",
    "    print(\"Training completed.\")\n",
    "\n",
    "    training_time = round((time.time() - start_time)/60,2)\n",
    "\n",
    "    print(\"It took {} minutes for {} instances.\".format(training_time, train_df.shape[0]))\n",
    "\n",
    "    # Clean cache\n",
    "    gc.collect()\n",
    "    torch.cuda.empty_cache()\n",
    "\n",
    "    start_evaluation_time = time.time()\n",
    "\n",
    "    # Evaluate the model\n",
    "    results = current_model.eval_model(test_df)\n",
    "\n",
    "    print(\"Evaluation completed.\")\n",
    "\n",
    "    evaluation_time = round((time.time() - start_evaluation_time)/60,2)\n",
    "\n",
    "    print(\"It took {} minutes for {} instances.\".format(evaluation_time, test_df.shape[0]))\n",
    "\n",
    "    # Get predictions\n",
    "    preds = results[1]\n",
    "\n",
    "    # Create a list with predictions\n",
    "    preds_list = []\n",
    "\n",
    "    for sentence in preds:\n",
    "        for word in sentence:\n",
    "            current_word = []\n",
    "            for element in word:\n",
    "                # Find prediction with the highest value\n",
    "                highest_index = element.index(max(element))\n",
    "                # Transform the index to label\n",
    "                current_pred = current_model.config.id2label[highest_index]\n",
    "                # Append to the list\n",
    "                current_word.append(current_pred)\n",
    "            # Segmentation can result in multiple predictions for one word - use the first prediction only\n",
    "            preds_list.append(current_word[0])\n",
    "    \n",
    "    # Get y_true\n",
    "    y_true = list(test_df.labels)\n",
    "\n",
    "    # Evaluate predictions\n",
    "    metrics = evaluate.testing(y_true, preds_list, list(test_df.labels.unique()), show_matrix=True)\n",
    "\n",
    "    # Add y_pred and y_true to the metrics dict\n",
    "    metrics[\"y_true\"] = y_true\n",
    "    metrics[\"y_pred\"] = preds_list\n",
    "    \n",
    "    # The function returns a dict with accuracy, micro f1, macro f1, y_true and y_pred\n",
    "    return metrics"
   ]
  },
  {
   "cell_type": "code",
   "execution_count": null,
   "metadata": {},
   "outputs": [],
   "source": [
    "# Create a file with results\n",
    "with open(\"ner-results.txt\", \"w\") as file:\n",
    "    file.write(\"Date\\tModel\\tRun\\tDataset\\tMicro F1\\tMacro F1\\tLabel Report\\n\")"
   ]
  },
  {
   "cell_type": "code",
   "execution_count": null,
   "metadata": {},
   "outputs": [],
   "source": [
    "# For each model, repeat training and testing 5 times\n",
    "model_list = [\"xlm-r-large\"]\n",
    "\n",
    "for model in model_list:\n",
    "    for run in list(range(5)):\n",
    "        current_results_dict = train_and_test(model, train_df, test_df)\n",
    "\n",
    "        # Add to the dict model name, dataset name and run\n",
    "        current_results_dict[\"model\"] = model\n",
    "        current_results_dict[\"run\"] = \"{}-{}\".format(model, run)\n",
    "        current_results_dict[\"dataset\"] = dataset_path\n",
    "\n",
    "        # Add to the file with results all important information\n",
    "        with open(\"ner-results.txt\", \"a\") as file:\n",
    "            file.write(\"{}\\t{}\\t{}\\t{}\\t{}\\t{}\\t{}\\n\".format(datetime.now().strftime(\"%d/%m/%Y %H:%M:%S\"), current_results_dict[\"model\"], current_results_dict[\"run\"], current_results_dict[\"dataset\"], current_results_dict[\"micro F1\"], current_results_dict[\"macro F1\"], current_results_dict[\"label-report\"]))\n",
    "\n",
    "        # Add to the original test_df y_preds\n",
    "        test_df[\"y_pred_{}_{}\".format(model, run)] = current_results_dict[\"y_pred\"]\n",
    "\n",
    "        # Save entire dict just in case\n",
    "        with open(\"{}-{}-{}-backlog.json\".format(dataset_path,model,run), \"w\") as backlog:\n",
    "            json.dump(current_results_dict, backlog, indent=2)\n",
    "    \n",
    "        print(\"Run {} finished.\".format(run))\n",
    "\n",
    "# At the end, save the test_df with all predictions\n",
    "test_df.to_csv(\"{}-test_df-with-predictions.csv\".format(dataset_path))"
   ]
  },
  {
   "cell_type": "markdown",
   "metadata": {},
   "source": [
    "# Result Analysis"
   ]
  },
  {
   "cell_type": "code",
   "execution_count": null,
   "metadata": {},
   "outputs": [],
   "source": [
    "# Import the txt with results\n",
    "import pandas as pd\n",
    "\n",
    "results = pd.read_csv(\"ner-results.txt\", sep=\"\\t\")\n",
    "\n",
    "results"
   ]
  },
  {
   "cell_type": "code",
   "execution_count": null,
   "metadata": {},
   "outputs": [],
   "source": [
    "# Get average micro and macro F1\n",
    "import matplotlib as plt\n",
    "results.groupby(\"Model\")[\"Micro F1\"].mean().plot(kind=\"bar\", color=\"blue\")\n",
    "results.groupby(\"Model\")[\"Macro F1\"].mean().plot(kind=\"bar\", color=\"orange\")"
   ]
  },
  {
   "cell_type": "code",
   "execution_count": null,
   "metadata": {},
   "outputs": [],
   "source": [
    "pred_df.columns"
   ]
  },
  {
   "cell_type": "code",
   "execution_count": null,
   "metadata": {},
   "outputs": [],
   "source": [
    "# Let's analyze the df with all the predictions\n",
    "import numpy as np\n",
    "\n",
    "pred_df = pd.read_csv(\"datasets/hr500k.conllup_extracted.json-test_df-with-predictions.csv\", index_col = 0)\n",
    "\n",
    "# Analyze instances where models are wrong\n",
    "pred_df[\"match\"] = np.where(pred_df[\"labels\"] != pred_df[\"y_pred_xlm-r-large_0\"], \"no\", \"yes\")\n",
    "pred_df.match.value_counts()"
   ]
  },
  {
   "cell_type": "code",
   "execution_count": null,
   "metadata": {},
   "outputs": [],
   "source": [
    "pred_df[pred_df[\"match\"] == \"no\"]"
   ]
  },
  {
   "cell_type": "markdown",
   "metadata": {},
   "source": [
    "## Undersampled dataset"
   ]
  },
  {
   "cell_type": "code",
   "execution_count": null,
   "metadata": {},
   "outputs": [],
   "source": [
    "import json"
   ]
  },
  {
   "cell_type": "code",
   "execution_count": null,
   "metadata": {},
   "outputs": [],
   "source": [
    "# Let's try creating a new dataset with O values undersampled by removing sentences that have no named entity\n",
    "\n",
    "with open(\"datasets/hr500k.conllup_extracted.json\", \"r\") as file:\n",
    "    dataset = json.load(file)\n",
    "\n",
    "train_d = dataset[\"train\"]\n",
    "train_df = pd.DataFrame(train_d)\n",
    "\n",
    "train_df"
   ]
  },
  {
   "cell_type": "code",
   "execution_count": null,
   "metadata": {},
   "outputs": [],
   "source": [
    "list(train_df.labels.unique())"
   ]
  },
  {
   "cell_type": "code",
   "execution_count": null,
   "metadata": {},
   "outputs": [],
   "source": []
  },
  {
   "cell_type": "code",
   "execution_count": null,
   "metadata": {},
   "outputs": [],
   "source": [
    "train_df.head(30)"
   ]
  },
  {
   "cell_type": "code",
   "execution_count": null,
   "metadata": {},
   "outputs": [],
   "source": [
    "train_df[\"NER\"] = \"yes\"\n",
    "meaningful_s = []\n",
    "meaningless_s = 0\n",
    "\n",
    "for i in list(train_df.sentence_id.unique()):\n",
    "    label_list = list(train_df[train_df.sentence_id == i].labels.unique())\n",
    "    if len(label_list) > 1:\n",
    "        meaningful_s.append(i)\n",
    "    elif \"O\" not in label_list:\n",
    "        meaningful_s.append(i)\n",
    "\n",
    "meaningful_s"
   ]
  },
  {
   "cell_type": "code",
   "execution_count": null,
   "metadata": {},
   "outputs": [],
   "source": [
    "# Number of meaningful s: 8966, compared to all s (19791)\n",
    "8966/19791*100"
   ]
  },
  {
   "cell_type": "code",
   "execution_count": null,
   "metadata": {},
   "outputs": [],
   "source": [
    "# Let's create a separate train file of only meaningful s\n",
    "undersampled_train_df = train_df[train_df[\"sentence_id\"].isin(meaningful_s)]\n",
    "\n",
    "undersampled_train_df.head()"
   ]
  },
  {
   "cell_type": "code",
   "execution_count": null,
   "metadata": {},
   "outputs": [],
   "source": [
    "train_df.describe()"
   ]
  },
  {
   "cell_type": "code",
   "execution_count": null,
   "metadata": {},
   "outputs": [],
   "source": [
    "train_df.labels.value_counts(normalize=True)"
   ]
  },
  {
   "cell_type": "code",
   "execution_count": null,
   "metadata": {},
   "outputs": [],
   "source": [
    "undersampled_train_df.describe()"
   ]
  },
  {
   "cell_type": "code",
   "execution_count": null,
   "metadata": {},
   "outputs": [],
   "source": [
    "undersampled_train_df.labels.value_counts(normalize=True)"
   ]
  },
  {
   "cell_type": "code",
   "execution_count": null,
   "metadata": {},
   "outputs": [],
   "source": [
    "# Save undersampled train\n",
    "undersampled_train_df.to_csv(\"datasets/hr500k.conllup_extracted.json_undersampled_train.csv\")"
   ]
  }
 ],
 "metadata": {
  "kernelspec": {
   "display_name": "Python 3",
   "language": "python",
   "name": "python3"
  },
  "language_info": {
   "codemirror_mode": {
    "name": "ipython",
    "version": 3
   },
   "file_extension": ".py",
   "mimetype": "text/x-python",
   "name": "python",
   "nbconvert_exporter": "python",
   "pygments_lexer": "ipython3",
   "version": "3.8.10"
  },
  "orig_nbformat": 4
 },
 "nbformat": 4,
 "nbformat_minor": 2
}
