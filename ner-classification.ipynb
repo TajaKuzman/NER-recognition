{
 "cells": [
  {
   "cell_type": "code",
   "execution_count": 6,
   "metadata": {},
   "outputs": [
    {
     "name": "stdout",
     "output_type": "stream",
     "text": [
      "env: CUDA_DEVICE_ORDER=PCI_BUS_ID\n",
      "env: CUDA_VISIBLE_DEVICES=1\n"
     ]
    }
   ],
   "source": [
    "# Define the gpu on the gpu machine\n",
    "%env CUDA_DEVICE_ORDER=PCI_BUS_ID\n",
    "%env CUDA_VISIBLE_DEVICES=1"
   ]
  },
  {
   "cell_type": "code",
   "execution_count": 20,
   "metadata": {},
   "outputs": [
    {
     "name": "stdout",
     "output_type": "stream",
     "text": [
      "Found 1 CUDA devices\n",
      "id 0       b'A100-PCIE-40GB'                              [SUPPORTED]\n",
      "                      Compute Capability: 8.0\n",
      "                           PCI Device ID: 0\n",
      "                              PCI Bus ID: 38\n",
      "                                    UUID: GPU-46fb3d63-b174-7084-e3e4-c36b1fee00b1\n",
      "                                Watchdog: Disabled\n",
      "             FP32/FP64 Performance Ratio: 2\n",
      "Summary:\n",
      "\t1/1 devices are supported\n"
     ]
    },
    {
     "data": {
      "text/plain": [
       "True"
      ]
     },
     "execution_count": 20,
     "metadata": {},
     "output_type": "execute_result"
    }
   ],
   "source": [
    "# Check which gpus can now be seen from your code\n",
    "cuda.detect()"
   ]
  },
  {
   "cell_type": "code",
   "execution_count": 21,
   "metadata": {},
   "outputs": [],
   "source": [
    "import pandas as pd\n",
    "import numpy as np\n",
    "import json\n",
    "from simpletransformers.ner import NERModel, NERArgs\n",
    "from tqdm.autonotebook import tqdm as notebook_tqdm\n",
    "import wandb\n",
    "import os\n",
    "os.environ[\"TOKENIZERS_PARALLELISM\"] = \"false\"\n",
    "import logging\n",
    "import sklearn\n",
    "from numba import cuda\n",
    "\n",
    "logging.basicConfig(level=logging.INFO)\n",
    "transformers_logger = logging.getLogger(\"transformers\")\n",
    "transformers_logger.setLevel(logging.WARNING)"
   ]
  },
  {
   "cell_type": "code",
   "execution_count": 8,
   "metadata": {},
   "outputs": [
    {
     "data": {
      "text/plain": [
       "True"
      ]
     },
     "execution_count": 8,
     "metadata": {},
     "output_type": "execute_result"
    }
   ],
   "source": [
    "# Login to wandb\n",
    "wandb.login()"
   ]
  },
  {
   "cell_type": "code",
   "execution_count": 9,
   "metadata": {},
   "outputs": [
    {
     "name": "stdout",
     "output_type": "stream",
     "text": [
      "['*', 'B-loc', 'B-org', 'B-per', 'I-per', 'B-deriv-per', 'I-org', 'I-loc', 'B-misc', 'I-misc', 'I-deriv-per']\n",
      "(398681, 3) (51190, 3) (49764, 3)\n",
      "    sentence_id      words labels\n",
      "717  set.hr-s36      Kazna      *\n",
      "718  set.hr-s36  medijskom      *\n",
      "719  set.hr-s36     mogulu      *\n",
      "720  set.hr-s36   obnovila      *\n",
      "721  set.hr-s36   raspravu      *\n"
     ]
    }
   ],
   "source": [
    "# Import the dataset\n",
    "\n",
    "# Define the path to the dataset\n",
    "dataset_path = \"datasets/hr500k.conllup_extracted.json\"\n",
    "\n",
    "# Load the json file\n",
    "with open(dataset_path, \"r\") as file:\n",
    "    json_dict = json.load(file)\n",
    "\n",
    "# Open the train, eval and test dictionaries as DataFrames\n",
    "train_df = pd.DataFrame(json_dict[\"train\"])\n",
    "test_df = pd.DataFrame(json_dict[\"test\"])\n",
    "dev_df = pd.DataFrame(json_dict[\"dev\"])\n",
    "\n",
    "# Define the labels\n",
    "LABELS = json_dict[\"labels\"]\n",
    "print(LABELS)\n",
    "\n",
    "print(train_df.shape, test_df.shape, dev_df.shape)\n",
    "print(train_df.head())"
   ]
  },
  {
   "cell_type": "code",
   "execution_count": 22,
   "metadata": {},
   "outputs": [
    {
     "name": "stdout",
     "output_type": "stream",
     "text": [
      "['O', 'B-loc', 'B-org', 'B-per', 'I-per', 'B-deriv-per', 'I-org', 'I-loc', 'B-misc', 'I-misc', 'I-deriv-per']\n",
      "      sentence_id     words labels\n",
      "6004  set.hr-s297   Beograd  B-loc\n",
      "6005  set.hr-s297         i      O\n",
      "6006  set.hr-s297  Priština  B-loc\n",
      "6007  set.hr-s297  postigli      O\n",
      "6008  set.hr-s297   dogovor      O\n"
     ]
    }
   ],
   "source": [
    "# Change * to O\n",
    "if \"*\" in LABELS:\n",
    "    LABELS[LABELS.index(\"*\")] = \"O\"\n",
    "\n",
    "    for df in [train_df, test_df, dev_df]:\n",
    "        df[\"labels\"] = np.where(df[\"labels\"] == \"*\", \"O\", df[\"labels\"])\n",
    "\n",
    "print(LABELS)\n",
    "print(test_df.head())"
   ]
  },
  {
   "cell_type": "code",
   "execution_count": 11,
   "metadata": {},
   "outputs": [],
   "source": [
    "# Define the model\n",
    "\n",
    "# Model type - a dictionary of type and model name.\n",
    "# To refer to our own models, use the path to the model directory as the model name.\n",
    "model_type_dict = {\n",
    "    \"sloberta\": [\"camembert\", \"EMBEDDIA/sloberta\"],\n",
    "    \"csebert\": [\"bert\", \"EMBEDDIA/crosloengual-bert\"],\n",
    "    \"xlm-r-base\": [\"xlmroberta\", \"xlm-roberta-base\"],\n",
    "    \"xlm-r-large\": [\"xlmroberta\", \"xlm-roberta-large\"],\n",
    "    \"bertic\": [\"electra\", \"classla/bcms-bertic\"]\n",
    "}"
   ]
  },
  {
   "cell_type": "code",
   "execution_count": 12,
   "metadata": {},
   "outputs": [],
   "source": [
    "# Try to run the model to see if everything works\n",
    "batch_size = 32\n",
    "epochs = 1\n",
    "\n",
    "model_args = NERArgs()\n",
    "\n",
    "# define hyperparameters\n",
    "model_args ={\"overwrite_output_dir\": True,\n",
    "             \"num_train_epochs\": epochs,\n",
    "             \"labels_list\": LABELS,\n",
    "             \"learning_rate\": 1e-5,\n",
    "             \"train_batch_size\": batch_size,\n",
    "             # Comment out no_cache and no_save if you want to save the model\n",
    "             \"no_cache\": True,\n",
    "             \"no_save\": True,\n",
    "            # Only the trained model will be saved (if you want to save it)\n",
    "            # - to prevent filling all of the space\n",
    "            # \"save_model_every_epoch\":False,\n",
    "             \"max_seq_length\": 256,\n",
    "             \"save_steps\": -1,\n",
    "            # Use these parameters if you want to evaluate during training\n",
    "            #\"evaluate_during_training\": True,\n",
    "            ## Calculate how many steps will each epoch have\n",
    "            # num steps in epoch = training samples / batch size\n",
    "            # Then evaluate after every 3rd epoch\n",
    "            #\"evaluate_during_training_steps\": len(train_df.words)/batch_size*3,\n",
    "            #\"evaluate_during_training_verbose\": True,\n",
    "            #\"use_cached_eval_features\": True,\n",
    "            #'reprocess_input_data': True,\n",
    "            #\"wandb_project\": \"NER\",\n",
    "            \"silent\": True,\n",
    "            #\"wandb_kwargs\": {\"name\": \"default\"},\n",
    "             }\n"
   ]
  },
  {
   "cell_type": "code",
   "execution_count": 23,
   "metadata": {},
   "outputs": [
    {
     "name": "stderr",
     "output_type": "stream",
     "text": [
      "Some weights of XLMRobertaForTokenClassification were not initialized from the model checkpoint at xlm-roberta-large and are newly initialized: ['classifier.bias', 'classifier.weight']\n",
      "You should probably TRAIN this model on a down-stream task to be able to use it for predictions and inference.\n"
     ]
    }
   ],
   "source": [
    "# Choose the model\n",
    "current_model_name = \"xlm-r-large\"\n",
    "\n",
    "current_model = NERModel(\n",
    "    model_type_dict[current_model_name][0],\n",
    "    model_type_dict[current_model_name][1],\n",
    "    use_cuda=True,\n",
    "    args = model_args)"
   ]
  },
  {
   "cell_type": "code",
   "execution_count": 24,
   "metadata": {},
   "outputs": [
    {
     "name": "stderr",
     "output_type": "stream",
     "text": [
      "INFO:simpletransformers.ner.ner_model: Converting to features started.\n",
      "/home/tajak/NER-recognition/ner/lib/python3.8/site-packages/torch/optim/lr_scheduler.py:139: UserWarning: Detected call of `lr_scheduler.step()` before `optimizer.step()`. In PyTorch 1.1.0 and later, you should call them in the opposite order: `optimizer.step()` before `lr_scheduler.step()`.  Failure to do this will result in PyTorch skipping the first value of the learning rate schedule. See more details at https://pytorch.org/docs/stable/optim.html#how-to-adjust-learning-rate\n",
      "  warnings.warn(\"Detected call of `lr_scheduler.step()` before `optimizer.step()`. \"\n",
      "INFO:simpletransformers.ner.ner_model: Training of xlmroberta model complete. Saved to outputs/.\n"
     ]
    },
    {
     "data": {
      "text/plain": [
       "(619, 0.15293829199317874)"
      ]
     },
     "execution_count": 24,
     "metadata": {},
     "output_type": "execute_result"
    }
   ],
   "source": [
    "# Train the model\n",
    "current_model.train_model(train_df)"
   ]
  },
  {
   "cell_type": "code",
   "execution_count": 25,
   "metadata": {},
   "outputs": [],
   "source": [
    "import gc\n",
    "import torch\n",
    "gc.collect()\n",
    "torch.cuda.empty_cache()"
   ]
  },
  {
   "cell_type": "code",
   "execution_count": 96,
   "metadata": {},
   "outputs": [
    {
     "name": "stderr",
     "output_type": "stream",
     "text": [
      "INFO:simpletransformers.ner.ner_model: Converting to features started.\n",
      "INFO:simpletransformers.ner.ner_model:{'eval_loss': 0.04616385788423379, 'precision': 0.8540660972892685, 'recall': 0.8876881512929371, 'f1_score': 0.870552611657835}\n"
     ]
    }
   ],
   "source": [
    "# Evaluating the model\n",
    "results =  current_model.eval_model(test_df)"
   ]
  },
  {
   "cell_type": "code",
   "execution_count": 98,
   "metadata": {},
   "outputs": [],
   "source": [
    "preds = results[1]\n",
    "\n",
    "preds_list = []\n",
    "\n",
    "for sentence in preds:\n",
    "    for word in sentence:\n",
    "        current_word = []\n",
    "        for element in word:\n",
    "            # Find prediction with the highest value\n",
    "            highest_index = element.index(max(element))\n",
    "            # Transform the index to label\n",
    "            current_pred = current_model.config.id2label[highest_index]\n",
    "            # Append to the list\n",
    "            current_word.append(current_pred)\n",
    "        # Segmentation can result in multiple predictions for one word - use the first prediction only\n",
    "        preds_list.append(current_word[0])\n",
    "\n",
    "# Append the preds_list to test df\n",
    "test_df[\"preds\"] = preds_list\n",
    "\n"
   ]
  },
  {
   "cell_type": "code",
   "execution_count": 103,
   "metadata": {},
   "outputs": [
    {
     "name": "stdout",
     "output_type": "stream",
     "text": [
      "Macro f1: 0.0974, Micro f1: 0.84\n",
      "Accuracy: 0.84\n"
     ]
    },
    {
     "data": {
      "image/png": "[encoded data removed]",
      "text/plain": [
       "<Figure size 600x600 with 1 Axes>"
      ]
     },
     "metadata": {},
     "output_type": "display_data"
    },
    {
     "name": "stdout",
     "output_type": "stream",
     "text": [
      "              precision    recall  f1-score   support\n",
      "\n",
      "       B-loc       0.00      0.00      0.00        38\n",
      "           O       0.01      0.01      0.01       765\n",
      "       B-per       0.01      0.01      0.01       350\n",
      "       I-per       0.01      0.01      0.01       746\n",
      "       B-org       0.01      0.01      0.01       692\n",
      "      B-misc       0.01      0.01      0.01       165\n",
      "      I-misc       0.00      0.00      0.00       509\n",
      "       I-org       0.01      0.01      0.01       557\n",
      "       I-loc       0.00      0.00      0.00       441\n",
      " B-deriv-per       0.92      0.92      0.92     46927\n",
      "\n",
      "    accuracy                           0.84     51190\n",
      "   macro avg       0.10      0.10      0.10     51190\n",
      "weighted avg       0.84      0.84      0.84     51190\n",
      "\n"
     ]
    },
    {
     "data": {
      "text/plain": [
       "{'accuracy': 0.8398319984371948,\n",
       " 'micro F1': 0.8398319984371948,\n",
       " 'macro F1': 0.09739804144201585}"
      ]
     },
     "execution_count": 103,
     "metadata": {},
     "output_type": "execute_result"
    },
    {
     "data": {
      "text/plain": [
       "<Figure size 640x480 with 0 Axes>"
      ]
     },
     "metadata": {},
     "output_type": "display_data"
    }
   ],
   "source": [
    "# Evaluate predictions\n",
    "import evaluate\n",
    "\n",
    "evaluate.testing(list(test_df.labels), list(test_df.preds),list(test_df.labels.unique()), show_matrix=True)\n",
    "\n"
   ]
  },
  {
   "cell_type": "markdown",
   "metadata": {},
   "source": [
    "# Hyperparameter Optimization - Run the W&B sweep"
   ]
  },
  {
   "cell_type": "markdown",
   "metadata": {},
   "source": [
    "We can set up the default configuration for the Simple Transformers model. This would include any args that are not being optimized through the sweep.\n",
    "\n",
    "Hint: As a rule of thumb, it might be a good idea to set all of reprocess_input_data, overwrite_output_dir, and no_save to True when running sweeps."
   ]
  },
  {
   "cell_type": "code",
   "execution_count": null,
   "metadata": {},
   "outputs": [],
   "source": [
    "# Set up the sweep\n",
    "\n",
    "# Define the sweep config\n",
    "sweep_config = {\n",
    "    'method': 'random',\n",
    "    # Command the sweep to terminate\n",
    "    #'early_terminate': {\n",
    "    #   \"type\": \"hyperband\",\n",
    "    #    \"max_iter\": 20,\n",
    "    #    \"s\": 2}\n",
    "    }\n",
    "\n",
    "# Define the metric. If it is accuracy, you want to maximize it.\n",
    "# If it is loss, you want to minimize it.\n",
    "\n",
    "metric = {\n",
    "    'name': 'train_loss',\n",
    "    'goal': 'minimize'\n",
    "    }\n",
    "\n",
    "# Specify the hyperparameters\n",
    "\n",
    "parameters_dict = {\n",
    "    \"num_train_epochs\":{\n",
    "        # a flat distribution between 0 and 0.1\n",
    "        'distribution': 'int_uniform',\n",
    "        'min': 3,\n",
    "        'max': 10,\n",
    "        #'values': [3, 5, 10]\n",
    "    },\n",
    "    \"learning_rate\": {\n",
    "        'min': 5e-5,\n",
    "        'max': 4e-4\n",
    "        #'values': [1e-5, 4e-5, 1e-6]\n",
    "    }\n",
    "\n",
    "}\n",
    "\n",
    "sweep_config['metric'] = metric\n",
    "sweep_config['parameters'] = parameters_dict\n",
    "\n",
    "# Define sweep_id\n",
    "sweep_id = wandb.sweep(sweep_config, project=\"NER\")"
   ]
  },
  {
   "cell_type": "markdown",
   "metadata": {},
   "source": [
    "The first thing we need to define is the `method`\n",
    "for choosing new parameter values.\n",
    "\n",
    "We provide the following search `methods`:\n",
    "*   **`grid` Search** – Iterate over every combination of hyperparameter values.\n",
    "Very effective, but can be computationally costly.\n",
    "*   **`random` Search** – Select each new combination at random according to provided `distribution`s. Surprisingly effective!\n",
    "*   **`bayes`ian Search** – Create a probabilistic model of metric score as a function of the hyperparameters, and choose parameters with high probability of improving the metric. Works well for small numbers of continuous parameters but scales poorly.\n",
    "\n",
    "For a `grid` search, you need to specify values.\n",
    "\n",
    "For a `random` search, all the `values` of a parameter are equally likely to be chosen on a given run. You can also specify a named `distribution`,\n",
    "plus its parameters, like the mean `mu` and standard deviation `sigma` of a `normal` distribution.\n",
    "\n",
    "We'll stick with `random`."
   ]
  },
  {
   "cell_type": "code",
   "execution_count": null,
   "metadata": {},
   "outputs": [],
   "source": [
    "# Define model's arguments\n",
    "model_args = NERArgs()\n",
    "model_args.reprocess_input_data = True\n",
    "model_args.overwrite_output_dir = True\n",
    "model_args.evaluate_during_training = True\n",
    "model_args.manual_seed = 4\n",
    "model_args.use_multiprocessing = True\n",
    "model_args.train_batch_size = 32\n",
    "model_args.eval_batch_size = 32\n",
    "model_args.labels_list = LABELS\n",
    "model_args.no_cache = True\n",
    "model_args.no_save = True\n",
    "model_args.max_seq_length = 512\n",
    "model_args.save_steps = -1\n",
    "## Calculate how many steps will each epoch have\n",
    "# num steps in epoch = training samples / batch size\n",
    "# Then evaluate after every 3rd epoch\n",
    "#model_args.evaluate_during_training_steps = len(train_df.words)/32*3\n",
    "model_args.evaluate_during_training_verbose = True\n",
    "model_args.wandb_project = \"NER\""
   ]
  },
  {
   "cell_type": "markdown",
   "metadata": {},
   "source": [
    "### Set up the training function\n",
    "W&B will call this function to run the training for a particular sweep run. This function must perform 3 critical tasks.\n",
    "\n",
    "Initialize the wandb run\n",
    "Initialize a Simple Transformers model and pass in sweep_config=wandb.config as a kwarg.\n",
    "Run the training for the Simple Transformers model.\n",
    "wandb.config contains the hyperparameter values for the current sweeps run. Simple Transformers will update the model args accordingly."
   ]
  },
  {
   "cell_type": "code",
   "execution_count": null,
   "metadata": {},
   "outputs": [],
   "source": [
    "def train(model_name, train_df, dev_df):\n",
    "    # Initialize a new wandb run\n",
    "    wandb.init()\n",
    "\n",
    "    model_type_dict = {\n",
    "        \"sloberta\": [\"camembert\", \"EMBEDDIA/sloberta\"],\n",
    "        \"csebert\": [\"bert\", \"EMBEDDIA/crosloengual-bert\"],\n",
    "        \"xlm-r-base\": [\"xlmroberta\", \"xlm-roberta-base\"],\n",
    "        \"xlm-r-large\": [\"xlmroberta\", \"xlm-roberta-large\"],\n",
    "        \"bertic\": [\"electra\", \"classla/bcms-bertic\"]\n",
    "    }\n",
    "\n",
    "    # Create a model\n",
    "    model = NERModel(\n",
    "        model_type_dict[model_name][0],\n",
    "        model_type_dict[model_name][1],\n",
    "        use_cuda=True,\n",
    "        args = model_args,\n",
    "        sweep_config=wandb.config,)\n",
    "\n",
    "    # Train the model\n",
    "    model.train_model(train_df, eval_df=dev_df)\n",
    "\n",
    "    # Evaluate the model\n",
    "    model.eval_model(dev_df)\n",
    "\n",
    "    # Sync wandb\n",
    "    wandb.join()"
   ]
  },
  {
   "cell_type": "code",
   "execution_count": null,
   "metadata": {},
   "outputs": [],
   "source": [
    "# Choose the model - insert the model name as it is in the model_type_dict\n",
    "model_name = \"xlm-r-base\"\n",
    "\n",
    "# Run the sweep\n",
    "wandb.agent(sweep_id, train(model_name, train_df, dev_df))"
   ]
  },
  {
   "cell_type": "markdown",
   "metadata": {},
   "source": [
    "## Use Model"
   ]
  },
  {
   "cell_type": "code",
   "execution_count": null,
   "metadata": {},
   "outputs": [],
   "source": [
    "# Define the model\n",
    "\n",
    "# Model type - a dictionary of type and model name.\n",
    "# To refer to our own models, use the path to the model directory as the model name.\n",
    "model_type_dict = {\n",
    "    \"sloberta\": [\"camembert\", \"EMBEDDIA/sloberta\"],\n",
    "    \"csebert\": [\"bert\", \"EMBEDDIA/crosloengual-bert\"],\n",
    "    \"xlm-r-base\": [\"xlmroberta\", \"xlm-roberta-base\"],\n",
    "    \"xlm-r-large\": [\"xlmroberta\", \"xlm-roberta-large\"],\n",
    "    \"bertic\": [\"electra\", \"classla/bcms-bertic\"]\n",
    "}\n",
    "\n",
    "batch_size = 32\n",
    "epochs = 10\n",
    "\n",
    "model_args = NERArgs()\n",
    "\n",
    "# define hyperparameters\n",
    "model_args ={\"overwrite_output_dir\": True,\n",
    "             \"num_train_epochs\": epochs,\n",
    "             \"labels_list\": LABELS,\n",
    "             \"learning_rate\": 1e-5,\n",
    "             \"train_batch_size\": batch_size,\n",
    "             # Comment out no_cache and no_save if you want to save the model\n",
    "             \"no_cache\": True,\n",
    "             \"no_save\": True,\n",
    "            # Only the trained model will be saved (if you want to save it)\n",
    "            # - to prevent filling all of the space\n",
    "            # \"save_model_every_epoch\":False,\n",
    "             \"max_seq_length\": 512,\n",
    "             \"save_steps\": -1,\n",
    "            # Use these parameters if you want to evaluate during training\n",
    "            \"evaluate_during_training\": True,\n",
    "            ## Calculate how many steps will each epoch have\n",
    "            # num steps in epoch = training samples / batch size\n",
    "            # Then evaluate after every 3rd epoch\n",
    "            \"evaluate_during_training_steps\": len(train_df.words)/batch_size*3,\n",
    "            \"evaluate_during_training_verbose\": True,\n",
    "            \"use_cached_eval_features\": True,\n",
    "            'reprocess_input_data': True,\n",
    "            \"wandb_project\": \"NER\",\n",
    "            \"silent\": True,\n",
    "            \"wandb_kwargs\": {\"name\": \"default\"},\n",
    "             }\n"
   ]
  },
  {
   "cell_type": "code",
   "execution_count": null,
   "metadata": {},
   "outputs": [],
   "source": [
    "# Initialize Wandb\n",
    "wandb.init(project=\"NER\", entity=\"tajak\", name=\"initialization\", config = model_args)\n",
    "# Save all hyperparameters in wandb config so that they are logged\n",
    "wandb.config = model_args"
   ]
  },
  {
   "cell_type": "code",
   "execution_count": null,
   "metadata": {},
   "outputs": [],
   "source": [
    "# Choose the model\n",
    "current_model_name = \"xlm-r-base\"\n",
    "\n",
    "current_model = NERModel(\n",
    "    model_type_dict[current_model_name][0],\n",
    "    model_type_dict[current_model_name][1],\n",
    "    use_cuda=True,\n",
    "    args = model_args)"
   ]
  },
  {
   "cell_type": "code",
   "execution_count": null,
   "metadata": {},
   "outputs": [],
   "source": [
    "# Train the model\n",
    "\n",
    "current_model.train_model(train_df, eval_data=dev_df)"
   ]
  },
  {
   "cell_type": "code",
   "execution_count": null,
   "metadata": {},
   "outputs": [],
   "source": [
    "# Evaluating the model\n",
    "result, model_outputs, wrong_preds = current_model.eval_model(test_df)\n",
    "\n",
    "# To use the model for prediction\n",
    "# predictions, raw_outputs = model.predict([\"Sample sentence 1\", \"Sample sentence 2\"])\n",
    "# Prediction on already segmented words:\n",
    "# predictions, raw_outputs = model.predict([[\"Ron\", \"is\", \"Harry's\", \"best\", \"friend\"], [\"Hrmione\", \"was\", \"the \", \"best\", \"in\", \"her\", \"class\"]], split_on_space=False)"
   ]
  },
  {
   "cell_type": "code",
   "execution_count": null,
   "metadata": {},
   "outputs": [],
   "source": [
    "# Clean the GPU cache\n",
    "cuda.select_device(0)\n",
    "cuda.close()\n",
    "cuda.select_device(0)\n",
    "torch.cuda.empty_cache()"
   ]
  }
 ],
 "metadata": {
  "kernelspec": {
   "display_name": "Python 3",
   "language": "python",
   "name": "python3"
  },
  "language_info": {
   "codemirror_mode": {
    "name": "ipython",
    "version": 3
   },
   "file_extension": ".py",
   "mimetype": "text/x-python",
   "name": "python",
   "nbconvert_exporter": "python",
   "pygments_lexer": "ipython3",
   "version": "3.8.10"
  },
  "orig_nbformat": 4
 },
 "nbformat": 4,
 "nbformat_minor": 2
}
